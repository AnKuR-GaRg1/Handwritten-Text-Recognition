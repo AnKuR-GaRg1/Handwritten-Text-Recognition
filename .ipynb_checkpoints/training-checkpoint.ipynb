{
 "cells": [
  {
   "cell_type": "code",
   "execution_count": 10,
   "metadata": {},
   "outputs": [
    {
     "name": "stdout",
     "output_type": "stream",
     "text": [
      "260715\n",
      "111736\n"
     ]
    }
   ],
   "source": [
    "\n",
    "from keras import backend as K\n",
    "import numpy as np\n",
    "from sklearn.model_selection import train_test_split\n",
    "seed = 785\n",
    "np.random.seed(seed)\n",
    "\n",
    "data = np.loadtxt('C:/Users/PAYAL/Desktop/finalproject/data/data.csv', delimiter=',')\n",
    "\n",
    "x = data[:,1:]\n",
    "y = data[:,0]\n",
    "\n",
    "(xtrain, xtest, ytrain, ytest) = train_test_split(x, y, test_size=0.30, random_state=seed)\n",
    "\n",
    "print(len(xtrain))\n",
    "print(len(xtest))"
   ]
  },
  {
   "cell_type": "code",
   "execution_count": 11,
   "metadata": {},
   "outputs": [],
   "source": [
    "\n",
    "from keras.utils import np_utils\n",
    "\n",
    "xtrain = xtrain.reshape(xtrain.shape[0], 28, 28, 1)\n",
    "xtest = xtest.reshape(xtest.shape[0], 28, 28, 1)\n",
    "\n",
    "xtrain = xtrain.astype('float32')\n",
    "xtest = xtest.astype('float32')\n",
    "\n",
    "xtrain = xtrain / 255\n",
    "xtest = xtest / 255"
   ]
  },
  {
   "cell_type": "code",
   "execution_count": 12,
   "metadata": {},
   "outputs": [
    {
     "name": "stdout",
     "output_type": "stream",
     "text": [
      "Train on 260715 samples, validate on 111736 samples\n",
      "Epoch 1/5\n",
      "260715/260715 [==============================] - 264s 1ms/step - loss: 0.2350 - acc: 0.9352 - val_loss: 0.0962 - val_acc: 0.9739\n",
      "Epoch 2/5\n",
      "260715/260715 [==============================] - 331s 1ms/step - loss: 0.0864 - acc: 0.9761 - val_loss: 0.0803 - val_acc: 0.9773\n",
      "Epoch 3/5\n",
      "260715/260715 [==============================] - 291s 1ms/step - loss: 0.0650 - acc: 0.9818 - val_loss: 0.0620 - val_acc: 0.9829\n",
      "Epoch 4/5\n",
      "260715/260715 [==============================] - 288s 1ms/step - loss: 0.0522 - acc: 0.9853 - val_loss: 0.0517 - val_acc: 0.9861\n",
      "Epoch 5/5\n",
      "260715/260715 [==============================] - 287s 1ms/step - loss: 0.0424 - acc: 0.9877 - val_loss: 0.0493 - val_acc: 0.9866\n",
      "111736/111736 [==============================] - 56s 501us/step\n",
      "Error: 1.34%\n"
     ]
    }
   ],
   "source": [
    "\n",
    "from keras.models import Sequential\n",
    "from keras.layers import Dense, Dropout, Flatten\n",
    "from keras.layers.convolutional import Conv2D\n",
    "from keras.layers.convolutional import MaxPooling2D\n",
    "\n",
    "ytrain = np_utils.to_categorical(ytrain)\n",
    "ytest = np_utils.to_categorical(ytest)\n",
    "\n",
    "num_classes = ytest.shape[1]\n",
    "\n",
    "model = Sequential()\n",
    "model.add(Conv2D(32, (5, 5), input_shape=(28, 28, 1), activation='relu'))\n",
    "model.add(MaxPooling2D(pool_size=(2, 2)))\n",
    "model.add(Dropout(0.2))\n",
    "model.add(Flatten())\n",
    "model.add(Dense(128, activation='relu'))\n",
    "model.add(Dense(num_classes, activation='softmax'))\n",
    "\n",
    "model.compile(loss='categorical_crossentropy', optimizer='adam', metrics=['accuracy'])\n",
    "model.fit(xtrain, ytrain, validation_data=(xtest, ytest), epochs=5, batch_size=200, verbose=1)\n",
    "\n",
    "evaluation = model.evaluate(xtest,ytest, verbose=1)\n",
    "print(\"Error: %.2f%%\" % (100-evaluation[1]*100))\n",
    "\n",
    "model.save('weights.model')"
   ]
  },
  {
   "cell_type": "code",
   "execution_count": null,
   "metadata": {},
   "outputs": [],
   "source": []
  },
  {
   "cell_type": "code",
   "execution_count": null,
   "metadata": {},
   "outputs": [],
   "source": []
  }
 ],
 "metadata": {
  "kernelspec": {
   "display_name": "Python 3",
   "language": "python",
   "name": "python3"
  },
  "language_info": {
   "codemirror_mode": {
    "name": "ipython",
    "version": 3
   },
   "file_extension": ".py",
   "mimetype": "text/x-python",
   "name": "python",
   "nbconvert_exporter": "python",
   "pygments_lexer": "ipython3",
   "version": "3.6.4"
  }
 },
 "nbformat": 4,
 "nbformat_minor": 2
}
